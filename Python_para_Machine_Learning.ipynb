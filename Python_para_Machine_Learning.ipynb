{
  "nbformat": 4,
  "nbformat_minor": 0,
  "metadata": {
    "colab": {
      "provenance": [],
      "authorship_tag": "ABX9TyPnn1FCRifr44UFeTuKNiCt",
      "include_colab_link": true
    },
    "kernelspec": {
      "name": "python3",
      "display_name": "Python 3"
    },
    "language_info": {
      "name": "python"
    }
  },
  "cells": [
    {
      "cell_type": "markdown",
      "metadata": {
        "id": "view-in-github",
        "colab_type": "text"
      },
      "source": [
        "<a href=\"https://colab.research.google.com/github/EderLara/IA-Explorador-Talento-Tech-/blob/main/Python_para_Machine_Learning.ipynb\" target=\"_parent\"><img src=\"https://colab.research.google.com/assets/colab-badge.svg\" alt=\"Open In Colab\"/></a>"
      ]
    },
    {
      "cell_type": "markdown",
      "source": [
        "# Módulo 1 - Fundamentos de Python\n",
        "* Tu primer programa\n",
        "* Tipos\n",
        "* Expresiones y Variables\n",
        "* Operaciones con Cadenas\n",
        "\n"
      ],
      "metadata": {
        "id": "PR71j5u7gZVv"
      }
    },
    {
      "cell_type": "code",
      "execution_count": null,
      "metadata": {
        "id": "cxIre3kqgWis"
      },
      "outputs": [],
      "source": []
    },
    {
      "cell_type": "markdown",
      "source": [
        "# Módulo 2 - Estructuras de Datos en Python\n",
        "* Listas y Tuplas\n",
        "* Conjuntos\n",
        "* Diccionarios\n",
        "\n"
      ],
      "metadata": {
        "id": "nCfOwdP3hC3E"
      }
    },
    {
      "cell_type": "code",
      "source": [],
      "metadata": {
        "id": "8BwvDdKQhEys"
      },
      "execution_count": null,
      "outputs": []
    },
    {
      "cell_type": "markdown",
      "source": [
        "# Módulo 3 - Fundamentos de Programación en Python\n",
        "* Condiciones y Ramificaciones\n",
        "* Bucles\n",
        "* Funciones\n",
        "* Objetos y Clases\n",
        "\n"
      ],
      "metadata": {
        "id": "FokDnv7JhFK-"
      }
    },
    {
      "cell_type": "code",
      "source": [],
      "metadata": {
        "id": "CFmrHQNihHQx"
      },
      "execution_count": null,
      "outputs": []
    },
    {
      "cell_type": "markdown",
      "source": [
        "# Módulo 4 - Trabajando con Datos en Python\n",
        "* Lectura de archivos con open\n",
        "* Escritura de archivos con open\n",
        "* Carga de datos con Pandas\n",
        "* Trabajo y Guardado de datos con Pandas\n",
        "\n"
      ],
      "metadata": {
        "id": "QbLvA22khHjF"
      }
    },
    {
      "cell_type": "code",
      "source": [],
      "metadata": {
        "id": "HT8U_juAhJZT"
      },
      "execution_count": null,
      "outputs": []
    },
    {
      "cell_type": "markdown",
      "source": [
        "# Módulo 5 - Trabajando con Arreglos Numpy y APIs Simples\n",
        "* Arreglos 1D de Numpy\n",
        "* Arreglos 2D de Numpy\n",
        "* APIs Simples\n",
        "* Configuración de API"
      ],
      "metadata": {
        "id": "2ltygOrWhJs3"
      }
    },
    {
      "cell_type": "code",
      "source": [],
      "metadata": {
        "id": "IlD_fhnuhNLX"
      },
      "execution_count": null,
      "outputs": []
    }
  ]
}