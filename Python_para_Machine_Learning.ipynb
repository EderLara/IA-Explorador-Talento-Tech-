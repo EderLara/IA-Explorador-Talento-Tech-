{
  "nbformat": 4,
  "nbformat_minor": 0,
  "metadata": {
    "colab": {
      "provenance": [],
      "authorship_tag": "ABX9TyPGPx2BbGm+D118C1Q//+4e",
      "include_colab_link": true
    },
    "kernelspec": {
      "name": "python3",
      "display_name": "Python 3"
    },
    "language_info": {
      "name": "python"
    }
  },
  "cells": [
    {
      "cell_type": "markdown",
      "metadata": {
        "id": "view-in-github",
        "colab_type": "text"
      },
      "source": [
        "<a href=\"https://colab.research.google.com/github/EderLara/IA-Explorador-Talento-Tech-/blob/main/Python_para_Machine_Learning.ipynb\" target=\"_parent\"><img src=\"https://colab.research.google.com/assets/colab-badge.svg\" alt=\"Open In Colab\"/></a>"
      ]
    },
    {
      "cell_type": "markdown",
      "source": [
        "# Módulo 1 - Fundamentos de Python\n",
        "* Tu primer programa\n",
        "* Tipos\n",
        "* Expresiones y Variables\n",
        "* Operaciones con Cadenas\n",
        "\n"
      ],
      "metadata": {
        "id": "PR71j5u7gZVv"
      }
    },
    {
      "cell_type": "code",
      "execution_count": null,
      "metadata": {
        "id": "cxIre3kqgWis"
      },
      "outputs": [],
      "source": []
    },
    {
      "cell_type": "markdown",
      "source": [
        "# Módulo 2 - Estructuras de Datos en Python\n",
        "* Listas y Tuplas\n",
        "* Conjuntos\n",
        "* Diccionarios\n",
        "\n"
      ],
      "metadata": {
        "id": "nCfOwdP3hC3E"
      }
    },
    {
      "cell_type": "code",
      "source": [
        "mi_lista = ['Mercado', 280000, True, ['Pan', 'Arroz', 'Carne'], 34.5]\n",
        "mi_lista"
      ],
      "metadata": {
        "id": "8BwvDdKQhEys",
        "outputId": "80911e71-5a60-4018-be6d-5539f09b75c1",
        "colab": {
          "base_uri": "https://localhost:8080/"
        }
      },
      "execution_count": 1,
      "outputs": [
        {
          "output_type": "execute_result",
          "data": {
            "text/plain": [
              "['Mercado', 280000, True, ['Pan', 'Arroz', 'Carne'], 34.5]"
            ]
          },
          "metadata": {},
          "execution_count": 1
        }
      ]
    },
    {
      "cell_type": "code",
      "source": [
        "# Métodos de Listas:\n",
        "# Agregar Elementos a la lista:\n",
        "mi_lista.append('Almacenes Éxito')\n",
        "print(mi_lista)\n",
        "\n",
        "# Eliminar cualquier elemento de la lista :\n",
        "# mi_lista.remove(280000)         # Le paso el método con el valor a buscar y eliminar\n",
        "print(mi_lista)\n",
        "\n",
        "mi_lista.remove('Almacenes Éxito')\n",
        "print(mi_lista)"
      ],
      "metadata": {
        "id": "2QAUTqN1Kfqb",
        "outputId": "5fcc3918-fe72-46ec-cf2b-6e560f37fcd5",
        "colab": {
          "base_uri": "https://localhost:8080/"
        }
      },
      "execution_count": 6,
      "outputs": [
        {
          "output_type": "stream",
          "name": "stdout",
          "text": [
            "['Mercado', True, ['Pan', 'Arroz', 'Carne'], 34.5, 'Almacenes Éxito', 'Almacenes Éxito', 'Almacenes Éxito', 'Almacenes Éxito', 'Almacenes Éxito']\n",
            "['Mercado', True, ['Pan', 'Arroz', 'Carne'], 34.5, 'Almacenes Éxito', 'Almacenes Éxito', 'Almacenes Éxito', 'Almacenes Éxito', 'Almacenes Éxito']\n",
            "['Mercado', True, ['Pan', 'Arroz', 'Carne'], 34.5, 'Almacenes Éxito', 'Almacenes Éxito', 'Almacenes Éxito', 'Almacenes Éxito']\n"
          ]
        }
      ]
    },
    {
      "cell_type": "code",
      "source": [],
      "metadata": {
        "id": "CkKDG6gXMNAI"
      },
      "execution_count": null,
      "outputs": []
    },
    {
      "cell_type": "code",
      "source": [
        "mi_lista.remove('Almacenes Éxito')\n",
        "print(mi_lista)"
      ],
      "metadata": {
        "id": "QVpI_8_RMCto",
        "outputId": "ffec7e70-dd60-4d00-ea6a-21b752c6d18b",
        "colab": {
          "base_uri": "https://localhost:8080/"
        }
      },
      "execution_count": 8,
      "outputs": [
        {
          "output_type": "stream",
          "name": "stdout",
          "text": [
            "['Mercado', True, ['Pan', 'Arroz', 'Carne'], 34.5, 'Almacenes Éxito', 'Almacenes Éxito']\n"
          ]
        }
      ]
    },
    {
      "cell_type": "code",
      "source": [
        "print(mi_lista)\n",
        "\n",
        "mi_lista.pop(3)\n",
        "print(mi_lista)"
      ],
      "metadata": {
        "id": "YKuc7qFKMIAJ",
        "outputId": "2b89a2e5-6df5-41a5-ee61-2fe1456dbfed",
        "colab": {
          "base_uri": "https://localhost:8080/"
        }
      },
      "execution_count": 10,
      "outputs": [
        {
          "output_type": "stream",
          "name": "stdout",
          "text": [
            "['Mercado', True, ['Pan', 'Arroz', 'Carne'], 34.5, 'Almacenes Éxito', 'Almacenes Éxito']\n",
            "['Mercado', True, ['Pan', 'Arroz', 'Carne'], 'Almacenes Éxito', 'Almacenes Éxito']\n"
          ]
        }
      ]
    },
    {
      "cell_type": "code",
      "source": [
        "mi_lista[2].pop(0)\n",
        "mi_lista"
      ],
      "metadata": {
        "id": "Aqgx7qK6M2Io",
        "outputId": "6a6100fb-ad29-4d73-b888-59d5f1b09b35",
        "colab": {
          "base_uri": "https://localhost:8080/"
        }
      },
      "execution_count": 13,
      "outputs": [
        {
          "output_type": "execute_result",
          "data": {
            "text/plain": [
              "['Mercado', True, ['Arroz', 'Carne'], 'Almacenes Éxito', 'Almacenes Éxito']"
            ]
          },
          "metadata": {},
          "execution_count": 13
        }
      ]
    },
    {
      "cell_type": "code",
      "source": [
        "mi_lista[2].append('Leche')\n",
        "mi_lista"
      ],
      "metadata": {
        "id": "9enC61joNd6E",
        "outputId": "7ffa7111-79a4-433f-9699-703c61161f20",
        "colab": {
          "base_uri": "https://localhost:8080/"
        }
      },
      "execution_count": 18,
      "outputs": [
        {
          "output_type": "execute_result",
          "data": {
            "text/plain": [
              "['Mercado',\n",
              " True,\n",
              " ['Arroz', 'Pescado', 'Leche'],\n",
              " 'Almacenes Éxito',\n",
              " 'Almacenes Éxito']"
            ]
          },
          "metadata": {},
          "execution_count": 18
        }
      ]
    },
    {
      "cell_type": "code",
      "source": [
        "mi_lista[2].remove('Pescado')\n",
        "mi_lista[2].insert(1,'Condimentos')\n",
        "mi_lista"
      ],
      "metadata": {
        "id": "k-ZzMQGfNtvn",
        "outputId": "57fd3f07-c2d8-409a-b0d5-f5b0e14a1ffd",
        "colab": {
          "base_uri": "https://localhost:8080/"
        }
      },
      "execution_count": 21,
      "outputs": [
        {
          "output_type": "execute_result",
          "data": {
            "text/plain": [
              "['Mercado',\n",
              " True,\n",
              " ['Arroz', 'Condimentos', 'Carne'],\n",
              " 'Almacenes Éxito',\n",
              " 'Almacenes Éxito']"
            ]
          },
          "metadata": {},
          "execution_count": 21
        }
      ]
    },
    {
      "cell_type": "code",
      "source": [
        "# Indicar el nombre del mes cuando el usuario digite un número por teclado:\n"
      ],
      "metadata": {
        "id": "nosx7AknOcYw"
      },
      "execution_count": null,
      "outputs": []
    },
    {
      "cell_type": "markdown",
      "source": [
        "# Módulo 3 - Fundamentos de Programación en Python\n",
        "* Condiciones y Ramificaciones\n",
        "* Bucles\n",
        "* Funciones\n",
        "* Objetos y Clases\n",
        "\n"
      ],
      "metadata": {
        "id": "FokDnv7JhFK-"
      }
    },
    {
      "cell_type": "code",
      "source": [],
      "metadata": {
        "id": "CFmrHQNihHQx"
      },
      "execution_count": null,
      "outputs": []
    },
    {
      "cell_type": "markdown",
      "source": [
        "# Módulo 4 - Trabajando con Datos en Python\n",
        "* Lectura de archivos con open\n",
        "* Escritura de archivos con open\n",
        "* Carga de datos con Pandas\n",
        "* Trabajo y Guardado de datos con Pandas\n",
        "\n"
      ],
      "metadata": {
        "id": "QbLvA22khHjF"
      }
    },
    {
      "cell_type": "code",
      "source": [],
      "metadata": {
        "id": "HT8U_juAhJZT"
      },
      "execution_count": null,
      "outputs": []
    },
    {
      "cell_type": "markdown",
      "source": [
        "# Módulo 5 - Trabajando con Arreglos Numpy y APIs Simples\n",
        "* Arreglos 1D de Numpy\n",
        "* Arreglos 2D de Numpy\n",
        "* APIs Simples\n",
        "* Configuración de API"
      ],
      "metadata": {
        "id": "2ltygOrWhJs3"
      }
    },
    {
      "cell_type": "code",
      "source": [],
      "metadata": {
        "id": "IlD_fhnuhNLX"
      },
      "execution_count": null,
      "outputs": []
    }
  ]
}